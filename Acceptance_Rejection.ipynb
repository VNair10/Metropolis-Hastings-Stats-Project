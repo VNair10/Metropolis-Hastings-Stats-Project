{
 "cells": [
  {
   "cell_type": "markdown",
   "metadata": {},
   "source": [
    "# Acceptance Rejection Sampling "
   ]
  },
  {
   "cell_type": "code",
   "execution_count": null,
   "metadata": {
    "lines_to_next_cell": 1
   },
   "outputs": [],
   "source": [
    "import matplotlib.pyplot as plt\n",
    "import math\n",
    "import numpy as np\n",
    "def func(x):\n",
    "  return np.sin(x)/(2.5*x);"
   ]
  },
  {
   "cell_type": "code",
   "execution_count": null,
   "metadata": {},
   "outputs": [],
   "source": [
    "def gaus(x,g):\n",
    "  return (g*np.exp(-x*x/2))/(math.sqrt(2*math.pi))\n",
    "x=np.linspace(-10,10,100)\n",
    "plt.xlim(-10,10)\n",
    "plt.plot(x,func(x),label='Target distribution')\n",
    "plt.plot(x,gaus(x,1),label='Proposed distribution')\n",
    "plt.legend()\n",
    "plt.figure()\n",
    "plt.plot(x,func(x),label='Target distribution')\n",
    "plt.plot(x,gaus(x,16),label='Proposed distribution')\n",
    "plt.legend()\n",
    "plt.figure()\n",
    "qx=np.random.normal(0,1,1)\n",
    "fx=func(qx)\n",
    "plt.plot(x,func(x),label='Target distribution')\n",
    "plt.plot(x,gaus(x,16),label='Proposed distribution')\n",
    "plt.plot([qx,qx],[0,fx],'g',label='accepted sample');\n",
    "plt.plot([qx,qx],[fx,gaus(qx,16)],'r',label='rejected sample');\n",
    "plt.legend()\n",
    "np.warnings.filterwarnings('ignore')"
   ]
  }
 ],
 "metadata": {
  "jupytext": {
   "cell_metadata_filter": "-all",
   "notebook_metadata_filter": "-all",
   "text_representation": {
    "extension": ".py",
    "format_name": "light"
   }
  },
  "kernelspec": {
   "display_name": "Python 3",
   "language": "python",
   "name": "python3"
  }
 },
 "nbformat": 4,
 "nbformat_minor": 2
}
